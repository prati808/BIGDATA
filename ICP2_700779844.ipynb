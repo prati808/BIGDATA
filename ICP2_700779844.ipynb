{
  "nbformat": 4,
  "nbformat_minor": 0,
  "metadata": {
    "colab": {
      "provenance": [],
      "authorship_tag": "ABX9TyNumho8Nu8ddZUgOe8YqFja",
      "include_colab_link": true
    },
    "kernelspec": {
      "name": "python3",
      "display_name": "Python 3"
    },
    "language_info": {
      "name": "python"
    }
  },
  "cells": [
    {
      "cell_type": "markdown",
      "metadata": {
        "id": "view-in-github",
        "colab_type": "text"
      },
      "source": [
        "<a href=\"https://colab.research.google.com/github/prati808/BIGDATA/blob/main/ICP2_700779844.ipynb\" target=\"_parent\"><img src=\"https://colab.research.google.com/assets/colab-badge.svg\" alt=\"Open In Colab\"/></a>"
      ]
    },
    {
      "cell_type": "code",
      "source": [
        "class Counter:\n",
        "    count = 0  # Class variable\n",
        "\n",
        "    def __init__(self):\n",
        "        self._count = 0  # Instance variable\n",
        "\n",
        "    def increment(self):\n",
        "        self._count += 1         # Increment instance variable\n",
        "        Counter.count += 1       # Increment class variable\n",
        "\n",
        "    def get_counts(self):\n",
        "        return f\"Instance count: {self._count}, Class count: {Counter.count}\"\n",
        "a = Counter()\n",
        "b = Counter()\n",
        "\n",
        "a.increment()  # a._count = 1, Counter.count = 1\n",
        "a.increment()  # a._count = 2, Counter.count = 2\n",
        "b.increment()  # b._count = 1, Counter.count = 3\n",
        "\n",
        "print(a.get_counts())  # Should print: Instance count: 2, Class count: 3\n",
        "print(b.get_counts())  # Should print: Instance count: 1, Class count: 3\n"
      ],
      "metadata": {
        "colab": {
          "base_uri": "https://localhost:8080/"
        },
        "id": "1RweqTePuLMa",
        "outputId": "ba5f1fd1-96e1-4670-adfc-31734f13225f"
      },
      "execution_count": 6,
      "outputs": [
        {
          "output_type": "stream",
          "name": "stdout",
          "text": [
            "Instance count: 2, Class count: 3\n",
            "Instance count: 1, Class count: 3\n"
          ]
        }
      ]
    },
    {
      "cell_type": "markdown",
      "source": [
        "a)Explain the difference between Counter.count and self._count.\n",
        "\n",
        "Counter.count is a class variable, shared across all instances of the class.\n",
        "\n",
        "self._count is an instance variable, unique to each object (instance) of the Counter class."
      ],
      "metadata": {
        "id": "DM-0Sx-zvDpP"
      }
    },
    {
      "cell_type": "markdown",
      "source": [
        "b)What is the output of a.get_counts() and b.get_counts()?\n",
        "\n",
        "a.get_counts() → \"Instance count: 2, Class count: 3\"\n",
        "b.get_counts() → \"Instance count: 1, Class count: 3\"\n"
      ],
      "metadata": {
        "id": "DzsahIvUvVe6"
      }
    },
    {
      "cell_type": "markdown",
      "source": [
        "c)How does the increment method affect both the class and instance variables?\n",
        "\n",
        "The increment method:\n",
        "\n",
        "Increases the instance variable self._count by 1, which only affects that object.\n",
        "\n",
        "Increases the class variable Counter.count by 1, which affects all instances of the class."
      ],
      "metadata": {
        "id": "uM4U6GMHvgLv"
      }
    },
    {
      "cell_type": "markdown",
      "source": [
        "2.Find and remove the bug from the code to find the given output\n",
        "\n",
        " def sum_all (args):\n",
        "      return sum(args)\n",
        "print(\"Sum of 1,2,3 is:\",sum_all(1,2,3))\n",
        "print(\"Sum of 4,5,6,7 is:\", sum_all(4,5,6,7))\n",
        "\n",
        "the output is\n",
        "Sum of 1,2,3 is: 6\n",
        "Sum of 4,5,6,7 is: 22\n",
        "\n",
        "\n",
        "\n",
        "\n"
      ],
      "metadata": {
        "id": "7jwpB8zcxkz-"
      }
    },
    {
      "cell_type": "code",
      "source": [
        "def sum_all(*args): # Accepts any number of arguments as a tuple\n",
        " return sum(args)\n",
        "\n",
        "print(\"Sum of 1,2,3 is:\", sum_all(1, 2, 3))\n",
        "print(\"Sum of 4,5,6,7 is:\", sum_all(4, 5, 6, 7))"
      ],
      "metadata": {
        "colab": {
          "base_uri": "https://localhost:8080/"
        },
        "id": "S8DKOnBf6bq5",
        "outputId": "d2105973-d4e0-4f0f-e0d4-978bfffafa7e"
      },
      "execution_count": 5,
      "outputs": [
        {
          "output_type": "stream",
          "name": "stdout",
          "text": [
            "Sum of 1,2,3 is: 6\n",
            "Sum of 4,5,6,7 is: 22\n"
          ]
        }
      ]
    },
    {
      "cell_type": "code",
      "source": [
        "def first_word(name_list):\n",
        "    # Arrange the names in alphabetical order\n",
        "    name_list_sorted = sorted(name_list)\n",
        "\n",
        "    # Return the first name from the sorted list\n",
        "    return name_list_sorted[0]\n",
        "students = ['Mary', 'Zelda', 'Jimmy', 'Jack', 'Bartholomew', 'Gertrude']\n",
        "\n",
        "\n",
        "print(\"First word alphabetically is:\", first_word(students))"
      ],
      "metadata": {
        "colab": {
          "base_uri": "https://localhost:8080/"
        },
        "id": "0HwEoRWHzMBm",
        "outputId": "88791bb4-45c2-4560-a06c-769f3dc91069"
      },
      "execution_count": 11,
      "outputs": [
        {
          "output_type": "stream",
          "name": "stdout",
          "text": [
            "First word alphabetically is: Bartholomew\n"
          ]
        }
      ]
    },
    {
      "cell_type": "code",
      "source": [
        "class Employee:\n",
        "    # variable to count the number of Employees\n",
        "    num_employees = 0\n",
        "\n",
        "    # Constructor to initialize name, family, salary, department\n",
        "    def __init__(self, name, family, salary, department):\n",
        "        self.name = name\n",
        "        self.family = family\n",
        "        self.salary = salary\n",
        "        self.department = department\n",
        "\n",
        "        # Increment the class variable when an employee is created\n",
        "        Employee.num_employees+= 1\n",
        "\n",
        "    # Function to calculate average salary\n",
        "    def average_salary(self,employees):\n",
        "        total_salary = sum(emp.salary for emp in employees)\n",
        "        numberOfEmployees= len(employees)\n",
        "        averageSalary = total_salary / numberOfEmployees\n",
        "        return averageSalary\n",
        "# FulltimeEmployee inherits from Employee\n",
        "class FulltimeEmployee(Employee):\n",
        "    pass\n",
        "\n",
        "# Create instances of Employee and FulltimeEmployee\n",
        "emp1 = Employee(\"Alex\", \"Cary\", 80000, \"Accounts\")\n",
        "emp2 = FulltimeEmployee(\"Jason\", \"Roy\", 40000, \"Engineering\")\n",
        "emp3 = FulltimeEmployee(\"Ben\", \"Stokes\", 90000, \"HR\")\n",
        "\n",
        "# Test the class member functions\n",
        "print(f\"Total Employees: {Employee.num_employees}\")\n",
        "\n",
        "# Create a list of employees to pass to calculate average salary\n",
        "employee_list = [emp1, emp2, emp3]\n",
        "print(f\"Average Salary: {emp1.average_salary(employee_list)}\")\n",
        "\n",
        "# Access individual employee details\n",
        "\n",
        "print(f\"{emp1.name} is not a full-time employee in {emp1.department} with salary {emp1.salary}\")\n",
        "print(f\"{emp2.name} is a full-time employee in {emp2.department} with salary {emp2.salary}\")\n",
        "print(f\"{emp3.name} is a full-time employee in {emp3.department} with salary {emp3.salary}\")\n"
      ],
      "metadata": {
        "colab": {
          "base_uri": "https://localhost:8080/"
        },
        "id": "5unQHEII508Y",
        "outputId": "ced326ee-7882-4b21-a3f6-96f7782a3308"
      },
      "execution_count": 3,
      "outputs": [
        {
          "output_type": "stream",
          "name": "stdout",
          "text": [
            "Total Employees: 3\n",
            "Average Salary: 70000.0\n",
            "Alex is not a full-time employee in Accounts with salary 80000\n",
            "Jason is a full-time employee in Engineering with salary 40000\n",
            "Ben is a full-time employee in HR with salary 90000\n"
          ]
        }
      ]
    }
  ]
}