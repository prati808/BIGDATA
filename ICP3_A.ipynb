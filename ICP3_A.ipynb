{
 "cells": [
  {
   "cell_type": "code",
   "execution_count": 1,
   "id": "fa8123ce-016b-430c-980b-8742ef394e90",
   "metadata": {},
   "outputs": [],
   "source": [
    "import numpy as np"
   ]
  },
  {
   "cell_type": "code",
   "execution_count": 8,
   "id": "ffcfa5bb-a366-4c24-9f04-c81fe13dbbe7",
   "metadata": {},
   "outputs": [
    {
     "name": "stdout",
     "output_type": "stream",
     "text": [
      "Original Random vector:\n",
      " [ 8 17 19  6  3  7  3 14 11  8  3  2 10 12  2]\n",
      "\n",
      "Reshaped array (3x5):\n",
      " [[ 8 17 19  6  3]\n",
      " [ 7  3 14 11  8]\n",
      " [ 3  2 10 12  2]]\n",
      "\n",
      "Array shape: (3, 5)\n",
      "\n",
      "Array after replacing max in each row with 0:\n",
      " [[ 8 17  0  6  3]\n",
      " [ 7  3  0 11  8]\n",
      " [ 3  2 10  0  2]]\n"
     ]
    }
   ],
   "source": [
    "# Create a random vector of size 15 with integers in the range 1-20\n",
    "vec = np.random.randint(1, 21, size=15)\n",
    "print(\"Original Random vector:\\n\", vec)\n",
    "\n",
    "#Reshape the array to 3 by 5\n",
    "vec = vec.reshape(3, 5)\n",
    "print(\"\\nReshaped array (3x5):\\n\", vec)\n",
    "\n",
    "# Print the shape of the array\n",
    "print(\"\\nArray shape:\", vec.shape)\n",
    "\n",
    "# Replace the max in each row by 0\n",
    "row_max_indices = np.argmax(vec, axis=1)\n",
    "for i in range(vec.shape[0]):\n",
    "    vec[i, row_max_indices[i]] = 0\n",
    "\n",
    "print(\"\\nArray after replacing max in each row with 0:\\n\", vec)\n"
   ]
  },
  {
   "cell_type": "code",
   "execution_count": 6,
   "id": "ec86c219-8c84-42c2-9393-e77cc2c6e779",
   "metadata": {},
   "outputs": [
    {
     "name": "stdout",
     "output_type": "stream",
     "text": [
      "2D Array:\n",
      " [[ 1  2  3]\n",
      " [ 4  5  6]\n",
      " [ 7  8  9]\n",
      " [10 11 12]]\n",
      "\n",
      "Shape of array: (4, 3)\n",
      "Type of array: <class 'numpy.ndarray'>\n",
      "Data type of elements: int32\n"
     ]
    }
   ],
   "source": [
    "# Creating a 4x3 2D array with 4-byte integers (int32)\n",
    "array_TD = np.array([[1, 2, 3],\n",
    "                     [4, 5, 6],\n",
    "                     [7, 8, 9],\n",
    "                     [10, 11, 12]], dtype=np.int32)\n",
    "\n",
    "# Prints the 2D array\n",
    "print(\"2D Array:\\n\", array_TD)\n",
    "\n",
    "# Prints the shape of the array\n",
    "print(\"\\nShape of array:\", array_TD.shape)\n",
    "\n",
    "# Prints the type of the array\n",
    "print(\"Type of array:\", type(array_TD))\n",
    "\n",
    "# Prints the data type of the array elements\n",
    "print(\"Data type of elements:\", array_TD.dtype)\n"
   ]
  },
  {
   "cell_type": "code",
   "execution_count": 5,
   "id": "daa1d368-d297-429b-b8bb-4cd5733d3c9a",
   "metadata": {},
   "outputs": [
    {
     "name": "stdout",
     "output_type": "stream",
     "text": [
      "Matrix:\n",
      "[[ 3 -2]\n",
      " [ 1  0]]\n",
      "\n",
      "Eigenvalues:\n",
      "[2. 1.]\n",
      "\n",
      "Right Eigenvectors (columns):\n",
      "[[0.89442719 0.70710678]\n",
      " [0.4472136  0.70710678]]\n"
     ]
    }
   ],
   "source": [
    "# Defining the square matrix\n",
    "matrix = np.array([[3, -2],\n",
    "                   [1,  0]])\n",
    "\n",
    "# Computing eigenvalues and right eigenvectors\n",
    "eigenvalues, eigenvectors = np.linalg.eig(matrix)\n",
    "\n",
    "# Display the results\n",
    "print(\"Matrix:\")\n",
    "print(matrix)\n",
    "\n",
    "print(\"\\nEigenvalues:\")\n",
    "print(eigenvalues)\n",
    "\n",
    "print(\"\\nRight Eigenvectors (columns):\")\n",
    "print(eigenvectors)\n"
   ]
  },
  {
   "cell_type": "code",
   "execution_count": 4,
   "id": "11a14fdd-81e9-4f71-a4d7-6b29643afd7b",
   "metadata": {},
   "outputs": [
    {
     "name": "stdout",
     "output_type": "stream",
     "text": [
      "Array:\n",
      "[[0 1 2]\n",
      " [3 4 5]]\n",
      "\n",
      "Diagonal elements: [0 4]\n",
      "Sum of diagonal elements: 4\n"
     ]
    }
   ],
   "source": [
    "# Defining the array\n",
    "arr = np.array([[0, 1, 2],\n",
    "                [3, 4, 5]])\n",
    "\n",
    "# Extracting the diagonal elements using np.diagonal()\n",
    "diag_elements = np.diagonal(arr)\n",
    "\n",
    "# Finding the sum of the diagonal elements\n",
    "diag_sum = np.sum(diag_elements)\n",
    "\n",
    "print(\"Array:\")\n",
    "print(arr)\n",
    "\n",
    "print(\"\\nDiagonal elements:\", diag_elements)\n",
    "print(\"Sum of diagonal elements:\", diag_sum)\n"
   ]
  },
  {
   "cell_type": "code",
   "execution_count": 3,
   "id": "183e4352-4e5a-49f4-b91e-56728662e439",
   "metadata": {},
   "outputs": [
    {
     "name": "stdout",
     "output_type": "stream",
     "text": [
      "Original array (3x2):\n",
      "[[1 2]\n",
      " [3 4]\n",
      " [5 6]]\n",
      "\n",
      "Reshaped array (2x3):\n",
      "[[1 2 3]\n",
      " [4 5 6]]\n"
     ]
    }
   ],
   "source": [
    "# Original array of shape 3x2\n",
    "array = np.array([[1, 2],\n",
    "                   [3, 4],\n",
    "                   [5, 6]])\n",
    "\n",
    "# Reshapes the array to shape 2x3\n",
    "New_array = array.reshape(2, 3)\n",
    "\n",
    "print(\"Original array (3x2):\")\n",
    "print(array)\n",
    "\n",
    "print(\"\\nReshaped array (2x3):\")\n",
    "print(New_array)\n"
   ]
  }
 ],
 "metadata": {
  "kernelspec": {
   "display_name": "Python 3 (ipykernel)",
   "language": "python",
   "name": "python3"
  },
  "language_info": {
   "codemirror_mode": {
    "name": "ipython",
    "version": 3
   },
   "file_extension": ".py",
   "mimetype": "text/x-python",
   "name": "python",
   "nbconvert_exporter": "python",
   "pygments_lexer": "ipython3",
   "version": "3.13.3"
  }
 },
 "nbformat": 4,
 "nbformat_minor": 5
}
